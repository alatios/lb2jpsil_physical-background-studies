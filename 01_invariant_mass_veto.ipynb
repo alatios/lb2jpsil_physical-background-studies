{
 "cells": [
  {
   "cell_type": "code",
   "execution_count": 1,
   "id": "d32374fd",
   "metadata": {},
   "outputs": [],
   "source": [
    "import numpy as np\n",
    "import pandas as pd\n",
    "from matplotlib import pyplot as plt\n",
    "from matplotlib import colors as mcolors\n",
    "import pathlib\n",
    "from lb2jpsil import classifier_utils"
   ]
  },
  {
   "cell_type": "code",
   "execution_count": 2,
   "id": "68fe5603",
   "metadata": {},
   "outputs": [],
   "source": [
    "## Self explanatory\n",
    "save_plots = True\n",
    "\n",
    "## Toggle plot grid\n",
    "show_grid = False"
   ]
  },
  {
   "cell_type": "code",
   "execution_count": 3,
   "id": "29cfbced",
   "metadata": {},
   "outputs": [],
   "source": [
    "## Create plots directory, if missing\n",
    "repo_dir = str(pathlib.Path.home()) + '/physical-background-studies/'\n",
    "\n",
    "plot_directory = (\n",
    "    repo_dir + 'plots/'\n",
    "    + 'invariant_mass_veto/'\n",
    ")\n",
    "\n",
    "pathlib.Path(plot_directory).mkdir(parents=True, exist_ok=True)"
   ]
  },
  {
   "cell_type": "markdown",
   "id": "52171934",
   "metadata": {},
   "source": [
    "# Import MC data"
   ]
  },
  {
   "cell_type": "code",
   "execution_count": 4,
   "id": "b47d37ca",
   "metadata": {},
   "outputs": [],
   "source": [
    "## @todo: do the same thing by hand"
   ]
  },
  {
   "cell_type": "code",
   "execution_count": 5,
   "id": "21b90d32",
   "metadata": {},
   "outputs": [],
   "source": [
    "path_to_hd5_files = str(pathlib.Path.home()) + '/data/'\n",
    "input_lambda = path_to_hd5_files + 'LHCbMC_2016-2017-2018_MagUpDown_Lb2JPsiL_Ttracks_v12.h5'\n",
    "input_b = path_to_hd5_files + 'LHCbMC_2016-2017-2018_MagUpDown_B2JPsiK_Ttracks_v6.h5'"
   ]
  },
  {
   "cell_type": "code",
   "execution_count": 6,
   "id": "70c36963",
   "metadata": {},
   "outputs": [],
   "source": [
    "def p_modulus(px, py, pz):\n",
    "    return np.sqrt(px**2 + py**2 + pz**2)\n",
    "\n",
    "def transverse_p_modulus(px, py):\n",
    "    return np.sqrt(px**2 + py**2)"
   ]
  },
  {
   "cell_type": "markdown",
   "id": "15dc1fb6",
   "metadata": {},
   "source": [
    "## $\\Lambda_b^0 \\rightarrow J/\\psi \\Lambda^0$"
   ]
  },
  {
   "cell_type": "code",
   "execution_count": 7,
   "id": "48b8b1f2",
   "metadata": {},
   "outputs": [],
   "source": [
    "df_reco = pd.read_hdf(input_lambda, key='LHCbMC_Lb')\n",
    "df_truth = pd.read_hdf(input_lambda, key='LHCbMCTruth_Lb')\n",
    "df_lambdab = pd.merge(df_truth.loc[df_truth['Rec_key'] >= 0], df_reco, left_index=True, right_on='MC_key')\n",
    "df_lambdab = df_lambdab.loc[(df_lambdab['MC_key'] >= 0) & (df_lambdab['Rec_key'] >= 0)]\n",
    "\n",
    "df_lambdab['TrackType'] = 'T'\n",
    "\n",
    "del(df_reco, df_truth)"
   ]
  },
  {
   "cell_type": "code",
   "execution_count": 8,
   "id": "57c809d7",
   "metadata": {},
   "outputs": [
    {
     "name": "stderr",
     "output_type": "stream",
     "text": [
      "/home/adegenna/apollo/lib64/python3.6/site-packages/pandas/core/series.py:726: RuntimeWarning: invalid value encountered in sqrt\n",
      "  result = getattr(ufunc, method)(*inputs, **kwargs)\n"
     ]
    }
   ],
   "source": [
    "classifier_utils.calculate_derived_variables(df_lambdab)\n",
    "df_lambdab = df_lambdab.loc[\n",
    "    classifier_utils.generate_prefilter(df_lambdab, exclude=['DTF_FixJPsiLambda_PIDSubs_Lb_M']),\n",
    "    :\n",
    "].copy()"
   ]
  },
  {
   "cell_type": "code",
   "execution_count": 9,
   "id": "1601e1d0",
   "metadata": {},
   "outputs": [
    {
     "data": {
      "text/html": [
       "<div>\n",
       "<style scoped>\n",
       "    .dataframe tbody tr th:only-of-type {\n",
       "        vertical-align: middle;\n",
       "    }\n",
       "\n",
       "    .dataframe tbody tr th {\n",
       "        vertical-align: top;\n",
       "    }\n",
       "\n",
       "    .dataframe thead th {\n",
       "        text-align: right;\n",
       "    }\n",
       "</style>\n",
       "<table border=\"1\" class=\"dataframe\">\n",
       "  <thead>\n",
       "    <tr style=\"text-align: right;\">\n",
       "      <th></th>\n",
       "      <th>MCTRUTH_Lb_ENDVERTEX_X</th>\n",
       "      <th>MCTRUTH_Lb_ENDVERTEX_Y</th>\n",
       "      <th>MCTRUTH_Lb_ENDVERTEX_Z</th>\n",
       "      <th>MCTRUTH_L_ENDVERTEX_X</th>\n",
       "      <th>MCTRUTH_L_ENDVERTEX_Y</th>\n",
       "      <th>MCTRUTH_L_ENDVERTEX_Z</th>\n",
       "      <th>MCTRUTH_p_PX</th>\n",
       "      <th>MCTRUTH_p_PY</th>\n",
       "      <th>MCTRUTH_p_PZ</th>\n",
       "      <th>MCTRUTH_pim_PX</th>\n",
       "      <th>...</th>\n",
       "      <th>L_Pt</th>\n",
       "      <th>Lb_P</th>\n",
       "      <th>Lb_Pt</th>\n",
       "      <th>Lb_AM</th>\n",
       "      <th>L_AM</th>\n",
       "      <th>Jpsi_ADMASS</th>\n",
       "      <th>Lb_ABSBPVDIRA</th>\n",
       "      <th>L_ABSBPVDIRA</th>\n",
       "      <th>DTF_FixJPsiLambda_converged</th>\n",
       "      <th>DTF_FixJPsi_converged</th>\n",
       "    </tr>\n",
       "    <tr>\n",
       "      <th>Rec_key</th>\n",
       "      <th></th>\n",
       "      <th></th>\n",
       "      <th></th>\n",
       "      <th></th>\n",
       "      <th></th>\n",
       "      <th></th>\n",
       "      <th></th>\n",
       "      <th></th>\n",
       "      <th></th>\n",
       "      <th></th>\n",
       "      <th></th>\n",
       "      <th></th>\n",
       "      <th></th>\n",
       "      <th></th>\n",
       "      <th></th>\n",
       "      <th></th>\n",
       "      <th></th>\n",
       "      <th></th>\n",
       "      <th></th>\n",
       "      <th></th>\n",
       "      <th></th>\n",
       "    </tr>\n",
       "  </thead>\n",
       "  <tbody>\n",
       "    <tr>\n",
       "      <th>1</th>\n",
       "      <td>0.8237</td>\n",
       "      <td>-0.2123</td>\n",
       "      <td>3.514200</td>\n",
       "      <td>140.238602</td>\n",
       "      <td>325.837311</td>\n",
       "      <td>7463.102539</td>\n",
       "      <td>367.250000</td>\n",
       "      <td>1035.959961</td>\n",
       "      <td>24602.169922</td>\n",
       "      <td>174.279999</td>\n",
       "      <td>...</td>\n",
       "      <td>1230.995605</td>\n",
       "      <td>111346.117188</td>\n",
       "      <td>1121.861816</td>\n",
       "      <td>5492.368863</td>\n",
       "      <td>1135.929195</td>\n",
       "      <td>4.656479</td>\n",
       "      <td>0.999980</td>\n",
       "      <td>0.999999</td>\n",
       "      <td>True</td>\n",
       "      <td>True</td>\n",
       "    </tr>\n",
       "    <tr>\n",
       "      <th>14</th>\n",
       "      <td>0.9904</td>\n",
       "      <td>-0.2075</td>\n",
       "      <td>-9.769600</td>\n",
       "      <td>224.561996</td>\n",
       "      <td>56.081600</td>\n",
       "      <td>5921.048828</td>\n",
       "      <td>2894.560059</td>\n",
       "      <td>699.140015</td>\n",
       "      <td>74302.851562</td>\n",
       "      <td>293.929993</td>\n",
       "      <td>...</td>\n",
       "      <td>3692.165039</td>\n",
       "      <td>131979.562500</td>\n",
       "      <td>3527.530518</td>\n",
       "      <td>5820.192773</td>\n",
       "      <td>1295.477850</td>\n",
       "      <td>11.355209</td>\n",
       "      <td>0.999992</td>\n",
       "      <td>1.000000</td>\n",
       "      <td>True</td>\n",
       "      <td>True</td>\n",
       "    </tr>\n",
       "    <tr>\n",
       "      <th>17</th>\n",
       "      <td>0.8236</td>\n",
       "      <td>-0.2738</td>\n",
       "      <td>28.986401</td>\n",
       "      <td>-296.374695</td>\n",
       "      <td>-100.123802</td>\n",
       "      <td>5963.561523</td>\n",
       "      <td>-1268.760010</td>\n",
       "      <td>-522.340027</td>\n",
       "      <td>25478.310547</td>\n",
       "      <td>-184.460007</td>\n",
       "      <td>...</td>\n",
       "      <td>1432.606445</td>\n",
       "      <td>128919.835938</td>\n",
       "      <td>2970.159668</td>\n",
       "      <td>5559.350201</td>\n",
       "      <td>1486.463098</td>\n",
       "      <td>8.811295</td>\n",
       "      <td>0.999997</td>\n",
       "      <td>0.999991</td>\n",
       "      <td>True</td>\n",
       "      <td>True</td>\n",
       "    </tr>\n",
       "    <tr>\n",
       "      <th>22</th>\n",
       "      <td>0.7534</td>\n",
       "      <td>-0.2931</td>\n",
       "      <td>-1.211400</td>\n",
       "      <td>-38.645302</td>\n",
       "      <td>-105.471802</td>\n",
       "      <td>7776.826172</td>\n",
       "      <td>-649.429993</td>\n",
       "      <td>-1605.150024</td>\n",
       "      <td>113660.250000</td>\n",
       "      <td>-26.830000</td>\n",
       "      <td>...</td>\n",
       "      <td>1320.509277</td>\n",
       "      <td>226062.250000</td>\n",
       "      <td>5157.786621</td>\n",
       "      <td>5139.534159</td>\n",
       "      <td>1148.480995</td>\n",
       "      <td>4.813217</td>\n",
       "      <td>0.999994</td>\n",
       "      <td>1.000000</td>\n",
       "      <td>True</td>\n",
       "      <td>True</td>\n",
       "    </tr>\n",
       "    <tr>\n",
       "      <th>25</th>\n",
       "      <td>1.4204</td>\n",
       "      <td>0.1756</td>\n",
       "      <td>6.183100</td>\n",
       "      <td>113.135696</td>\n",
       "      <td>223.900299</td>\n",
       "      <td>7097.245117</td>\n",
       "      <td>1002.729980</td>\n",
       "      <td>2151.709961</td>\n",
       "      <td>69297.921875</td>\n",
       "      <td>246.179993</td>\n",
       "      <td>...</td>\n",
       "      <td>3665.838135</td>\n",
       "      <td>165198.500000</td>\n",
       "      <td>5480.286133</td>\n",
       "      <td>6129.754035</td>\n",
       "      <td>1253.333734</td>\n",
       "      <td>27.358871</td>\n",
       "      <td>0.999997</td>\n",
       "      <td>0.999999</td>\n",
       "      <td>True</td>\n",
       "      <td>True</td>\n",
       "    </tr>\n",
       "    <tr>\n",
       "      <th>...</th>\n",
       "      <td>...</td>\n",
       "      <td>...</td>\n",
       "      <td>...</td>\n",
       "      <td>...</td>\n",
       "      <td>...</td>\n",
       "      <td>...</td>\n",
       "      <td>...</td>\n",
       "      <td>...</td>\n",
       "      <td>...</td>\n",
       "      <td>...</td>\n",
       "      <td>...</td>\n",
       "      <td>...</td>\n",
       "      <td>...</td>\n",
       "      <td>...</td>\n",
       "      <td>...</td>\n",
       "      <td>...</td>\n",
       "      <td>...</td>\n",
       "      <td>...</td>\n",
       "      <td>...</td>\n",
       "      <td>...</td>\n",
       "      <td>...</td>\n",
       "    </tr>\n",
       "    <tr>\n",
       "      <th>366319</th>\n",
       "      <td>0.5569</td>\n",
       "      <td>0.0628</td>\n",
       "      <td>57.432899</td>\n",
       "      <td>120.215797</td>\n",
       "      <td>-371.462097</td>\n",
       "      <td>7690.597168</td>\n",
       "      <td>355.570007</td>\n",
       "      <td>-1350.780029</td>\n",
       "      <td>26500.039062</td>\n",
       "      <td>109.430000</td>\n",
       "      <td>...</td>\n",
       "      <td>1047.205444</td>\n",
       "      <td>78991.656250</td>\n",
       "      <td>2090.365234</td>\n",
       "      <td>5171.156653</td>\n",
       "      <td>1105.151389</td>\n",
       "      <td>31.787338</td>\n",
       "      <td>0.999999</td>\n",
       "      <td>0.999997</td>\n",
       "      <td>True</td>\n",
       "      <td>True</td>\n",
       "    </tr>\n",
       "    <tr>\n",
       "      <th>366327</th>\n",
       "      <td>0.1985</td>\n",
       "      <td>-0.1576</td>\n",
       "      <td>-19.471500</td>\n",
       "      <td>-207.092300</td>\n",
       "      <td>-37.506302</td>\n",
       "      <td>6777.450195</td>\n",
       "      <td>-2266.669922</td>\n",
       "      <td>-458.640015</td>\n",
       "      <td>76301.921875</td>\n",
       "      <td>-294.079987</td>\n",
       "      <td>...</td>\n",
       "      <td>3390.741455</td>\n",
       "      <td>149233.578125</td>\n",
       "      <td>6984.786133</td>\n",
       "      <td>5995.053378</td>\n",
       "      <td>1154.687818</td>\n",
       "      <td>16.235367</td>\n",
       "      <td>0.999999</td>\n",
       "      <td>0.999997</td>\n",
       "      <td>True</td>\n",
       "      <td>True</td>\n",
       "    </tr>\n",
       "    <tr>\n",
       "      <th>366331</th>\n",
       "      <td>0.8633</td>\n",
       "      <td>0.1466</td>\n",
       "      <td>-68.771400</td>\n",
       "      <td>-63.068901</td>\n",
       "      <td>-245.641098</td>\n",
       "      <td>6745.173828</td>\n",
       "      <td>-477.579987</td>\n",
       "      <td>-2102.550049</td>\n",
       "      <td>59762.968750</td>\n",
       "      <td>-199.369995</td>\n",
       "      <td>...</td>\n",
       "      <td>3307.712158</td>\n",
       "      <td>123697.367188</td>\n",
       "      <td>5610.091309</td>\n",
       "      <td>6032.292586</td>\n",
       "      <td>1327.193591</td>\n",
       "      <td>6.057602</td>\n",
       "      <td>0.998967</td>\n",
       "      <td>1.000000</td>\n",
       "      <td>True</td>\n",
       "      <td>True</td>\n",
       "    </tr>\n",
       "    <tr>\n",
       "      <th>366333</th>\n",
       "      <td>1.1884</td>\n",
       "      <td>-0.0951</td>\n",
       "      <td>69.203400</td>\n",
       "      <td>111.651604</td>\n",
       "      <td>74.976997</td>\n",
       "      <td>6779.822754</td>\n",
       "      <td>1028.930054</td>\n",
       "      <td>635.940002</td>\n",
       "      <td>62082.968750</td>\n",
       "      <td>293.480011</td>\n",
       "      <td>...</td>\n",
       "      <td>1629.448120</td>\n",
       "      <td>216706.687500</td>\n",
       "      <td>3353.850342</td>\n",
       "      <td>5700.875889</td>\n",
       "      <td>1172.822351</td>\n",
       "      <td>24.801529</td>\n",
       "      <td>0.999999</td>\n",
       "      <td>1.000000</td>\n",
       "      <td>True</td>\n",
       "      <td>True</td>\n",
       "    </tr>\n",
       "    <tr>\n",
       "      <th>366391</th>\n",
       "      <td>0.9741</td>\n",
       "      <td>0.2091</td>\n",
       "      <td>-11.659000</td>\n",
       "      <td>294.090698</td>\n",
       "      <td>39.875000</td>\n",
       "      <td>7125.287109</td>\n",
       "      <td>2412.750000</td>\n",
       "      <td>405.109985</td>\n",
       "      <td>60216.011719</td>\n",
       "      <td>395.200012</td>\n",
       "      <td>...</td>\n",
       "      <td>3213.296631</td>\n",
       "      <td>147580.312500</td>\n",
       "      <td>5561.543457</td>\n",
       "      <td>5799.484656</td>\n",
       "      <td>1180.099573</td>\n",
       "      <td>5.727035</td>\n",
       "      <td>0.999942</td>\n",
       "      <td>1.000000</td>\n",
       "      <td>True</td>\n",
       "      <td>True</td>\n",
       "    </tr>\n",
       "  </tbody>\n",
       "</table>\n",
       "<p>48556 rows × 245 columns</p>\n",
       "</div>"
      ],
      "text/plain": [
       "         MCTRUTH_Lb_ENDVERTEX_X  MCTRUTH_Lb_ENDVERTEX_Y  \\\n",
       "Rec_key                                                   \n",
       "1                        0.8237                 -0.2123   \n",
       "14                       0.9904                 -0.2075   \n",
       "17                       0.8236                 -0.2738   \n",
       "22                       0.7534                 -0.2931   \n",
       "25                       1.4204                  0.1756   \n",
       "...                         ...                     ...   \n",
       "366319                   0.5569                  0.0628   \n",
       "366327                   0.1985                 -0.1576   \n",
       "366331                   0.8633                  0.1466   \n",
       "366333                   1.1884                 -0.0951   \n",
       "366391                   0.9741                  0.2091   \n",
       "\n",
       "         MCTRUTH_Lb_ENDVERTEX_Z  MCTRUTH_L_ENDVERTEX_X  MCTRUTH_L_ENDVERTEX_Y  \\\n",
       "Rec_key                                                                         \n",
       "1                      3.514200             140.238602             325.837311   \n",
       "14                    -9.769600             224.561996              56.081600   \n",
       "17                    28.986401            -296.374695            -100.123802   \n",
       "22                    -1.211400             -38.645302            -105.471802   \n",
       "25                     6.183100             113.135696             223.900299   \n",
       "...                         ...                    ...                    ...   \n",
       "366319                57.432899             120.215797            -371.462097   \n",
       "366327               -19.471500            -207.092300             -37.506302   \n",
       "366331               -68.771400             -63.068901            -245.641098   \n",
       "366333                69.203400             111.651604              74.976997   \n",
       "366391               -11.659000             294.090698              39.875000   \n",
       "\n",
       "         MCTRUTH_L_ENDVERTEX_Z  MCTRUTH_p_PX  MCTRUTH_p_PY   MCTRUTH_p_PZ  \\\n",
       "Rec_key                                                                     \n",
       "1                  7463.102539    367.250000   1035.959961   24602.169922   \n",
       "14                 5921.048828   2894.560059    699.140015   74302.851562   \n",
       "17                 5963.561523  -1268.760010   -522.340027   25478.310547   \n",
       "22                 7776.826172   -649.429993  -1605.150024  113660.250000   \n",
       "25                 7097.245117   1002.729980   2151.709961   69297.921875   \n",
       "...                        ...           ...           ...            ...   \n",
       "366319             7690.597168    355.570007  -1350.780029   26500.039062   \n",
       "366327             6777.450195  -2266.669922   -458.640015   76301.921875   \n",
       "366331             6745.173828   -477.579987  -2102.550049   59762.968750   \n",
       "366333             6779.822754   1028.930054    635.940002   62082.968750   \n",
       "366391             7125.287109   2412.750000    405.109985   60216.011719   \n",
       "\n",
       "         MCTRUTH_pim_PX  ...         L_Pt           Lb_P        Lb_Pt  \\\n",
       "Rec_key                  ...                                            \n",
       "1            174.279999  ...  1230.995605  111346.117188  1121.861816   \n",
       "14           293.929993  ...  3692.165039  131979.562500  3527.530518   \n",
       "17          -184.460007  ...  1432.606445  128919.835938  2970.159668   \n",
       "22           -26.830000  ...  1320.509277  226062.250000  5157.786621   \n",
       "25           246.179993  ...  3665.838135  165198.500000  5480.286133   \n",
       "...                 ...  ...          ...            ...          ...   \n",
       "366319       109.430000  ...  1047.205444   78991.656250  2090.365234   \n",
       "366327      -294.079987  ...  3390.741455  149233.578125  6984.786133   \n",
       "366331      -199.369995  ...  3307.712158  123697.367188  5610.091309   \n",
       "366333       293.480011  ...  1629.448120  216706.687500  3353.850342   \n",
       "366391       395.200012  ...  3213.296631  147580.312500  5561.543457   \n",
       "\n",
       "               Lb_AM         L_AM  Jpsi_ADMASS  Lb_ABSBPVDIRA  L_ABSBPVDIRA  \\\n",
       "Rec_key                                                                       \n",
       "1        5492.368863  1135.929195     4.656479       0.999980      0.999999   \n",
       "14       5820.192773  1295.477850    11.355209       0.999992      1.000000   \n",
       "17       5559.350201  1486.463098     8.811295       0.999997      0.999991   \n",
       "22       5139.534159  1148.480995     4.813217       0.999994      1.000000   \n",
       "25       6129.754035  1253.333734    27.358871       0.999997      0.999999   \n",
       "...              ...          ...          ...            ...           ...   \n",
       "366319   5171.156653  1105.151389    31.787338       0.999999      0.999997   \n",
       "366327   5995.053378  1154.687818    16.235367       0.999999      0.999997   \n",
       "366331   6032.292586  1327.193591     6.057602       0.998967      1.000000   \n",
       "366333   5700.875889  1172.822351    24.801529       0.999999      1.000000   \n",
       "366391   5799.484656  1180.099573     5.727035       0.999942      1.000000   \n",
       "\n",
       "         DTF_FixJPsiLambda_converged  DTF_FixJPsi_converged  \n",
       "Rec_key                                                      \n",
       "1                               True                   True  \n",
       "14                              True                   True  \n",
       "17                              True                   True  \n",
       "22                              True                   True  \n",
       "25                              True                   True  \n",
       "...                              ...                    ...  \n",
       "366319                          True                   True  \n",
       "366327                          True                   True  \n",
       "366331                          True                   True  \n",
       "366333                          True                   True  \n",
       "366391                          True                   True  \n",
       "\n",
       "[48556 rows x 245 columns]"
      ]
     },
     "execution_count": 9,
     "metadata": {},
     "output_type": "execute_result"
    }
   ],
   "source": [
    "df_lambdab"
   ]
  },
  {
   "cell_type": "markdown",
   "id": "fcf3ad80",
   "metadata": {},
   "source": [
    "## $B^0 \\rightarrow J/\\psi K_S^0$"
   ]
  },
  {
   "cell_type": "code",
   "execution_count": 10,
   "id": "cac9fa52",
   "metadata": {},
   "outputs": [],
   "source": [
    "df_reco = pd.read_hdf(input_b, key='LHCbMC_B0')\n",
    "df_truth = pd.read_hdf(input_b, key='LHCbMCTruth_B0')\n",
    "df_b = pd.merge(df_truth.loc[df_truth['Rec_key'] >= 0], df_reco, left_index=True, right_on='MC_key')\n",
    "df_b = df_b.loc[(df_b['MC_key'] >= 0) & (df_b['Rec_key'] >= 0)]\n",
    "\n",
    "df_b['TrackType'] = 'T'\n",
    "\n",
    "del(df_reco, df_truth)"
   ]
  },
  {
   "cell_type": "code",
   "execution_count": 11,
   "id": "42cb7a3c",
   "metadata": {},
   "outputs": [
    {
     "name": "stderr",
     "output_type": "stream",
     "text": [
      "/home/adegenna/apollo/lib64/python3.6/site-packages/pandas/core/series.py:726: RuntimeWarning: invalid value encountered in sqrt\n",
      "  result = getattr(ufunc, method)(*inputs, **kwargs)\n"
     ]
    }
   ],
   "source": [
    "classifier_utils.calculate_derived_variables_B0(df_b)\n",
    "df_b = df_b.loc[\n",
    "    classifier_utils.generate_prefilter(df_b, prefilters='B0_PIDSubTemplate'),\n",
    "    :\n",
    "].copy()"
   ]
  },
  {
   "cell_type": "markdown",
   "id": "dbdfc25d",
   "metadata": {},
   "source": [
    "# Overview of invariant mass distributions"
   ]
  },
  {
   "cell_type": "code",
   "execution_count": 12,
   "id": "4f065f9e",
   "metadata": {
    "scrolled": false
   },
   "outputs": [
    {
     "data": {
      "image/png": "[encoded data removed]",
      "text/plain": [
       "<Figure size 432x288 with 1 Axes>"
      ]
     },
     "metadata": {
      "needs_background": "light"
     },
     "output_type": "display_data"
    }
   ],
   "source": [
    "filename = 'phys_bkg_lambdab_comparison'\n",
    "\n",
    "hist_params = {\n",
    "    'density': True,\n",
    "    'bins': 85,\n",
    "    'edgecolor': 'black',\n",
    "    'histtype': 'stepfilled',\n",
    "    'range': (5000,6200),\n",
    "}\n",
    "\n",
    "lambda_params = {\n",
    "    'hatch': '--',\n",
    "    'facecolor': 'none',\n",
    "    'label': r'$\\Lambda_b^0 \\rightarrow J/\\psi~\\Lambda^0$'\n",
    "}\n",
    "\n",
    "b_params = {\n",
    "    'hatch': '//',\n",
    "    'facecolor': 'none',\n",
    "    'label': r'$B^0 \\rightarrow J/\\psi~K^0_S$ background'\n",
    "}\n",
    "\n",
    "plt.hist(df_lambdab['DTF_FixJPsiLambda_Lb_M'], **hist_params, **lambda_params)\n",
    "plt.hist(df_b['DTF_FixJPsiKaon_PIDSubs_B0_M'], **hist_params, **b_params)\n",
    "\n",
    "plt.legend(frameon=False, loc='upper left')\n",
    "plt.ylabel(\"Probability density\")\n",
    "plt.xlabel(\"$m(J/\\psi~\\Lambda^0)$ [MeV/$c^2$]\")\n",
    "\n",
    "if save_plots:\n",
    "    plt.savefig(plot_directory + filename + '.pdf', bbox_inches='tight')\n",
    "\n",
    "plt.show()"
   ]
  },
  {
   "cell_type": "code",
   "execution_count": 13,
   "id": "88671bbc",
   "metadata": {},
   "outputs": [
    {
     "data": {
      "image/png": "[encoded data removed]",
      "text/plain": [
       "<Figure size 432x288 with 1 Axes>"
      ]
     },
     "metadata": {
      "needs_background": "light"
     },
     "output_type": "display_data"
    }
   ],
   "source": [
    "filename = 'phys_bkg_b0_comparison'\n",
    "\n",
    "hist_params = {\n",
    "    'density': True,\n",
    "    'bins': 85,\n",
    "    'edgecolor': 'black',\n",
    "    'histtype': 'stepfilled',\n",
    "    'range': (5000,6200),\n",
    "}\n",
    "\n",
    "lambda_params = {\n",
    "    'hatch': '--',\n",
    "    'facecolor': 'none',\n",
    "    'label': r'$\\Lambda_b^0 \\rightarrow J/\\psi~\\Lambda^0$ with $p \\rightarrow \\pi^+$ hypothesis'\n",
    "}\n",
    "\n",
    "b_params = {\n",
    "    'hatch': '//',\n",
    "    'facecolor': 'none',\n",
    "    'label': r'$B^0 \\rightarrow J/\\psi~K^0_S$'\n",
    "}\n",
    "\n",
    "plt.hist(df_b['DTF_FixJPsiKaon_B0_M'], **hist_params, **b_params)\n",
    "plt.hist(df_lambdab['DTF_FixJPsiLambda_PIDSubs_Lb_M'], **hist_params, **lambda_params)\n",
    "\n",
    "plt.legend(frameon=False, loc='upper right')\n",
    "plt.ylabel(\"Probability density\")\n",
    "plt.xlabel(\"$m(J/\\psi~K^0_S)$ [MeV/$c^2$]\")\n",
    "\n",
    "if save_plots:\n",
    "    plt.savefig(plot_directory + filename + '.pdf', bbox_inches='tight')\n",
    "\n",
    "plt.show()"
   ]
  },
  {
   "cell_type": "code",
   "execution_count": 14,
   "id": "03ebd937",
   "metadata": {},
   "outputs": [
    {
     "data": {
      "image/png": "[encoded data removed]",
      "text/plain": [
       "<Figure size 432x288 with 1 Axes>"
      ]
     },
     "metadata": {
      "needs_background": "light"
     },
     "output_type": "display_data"
    }
   ],
   "source": [
    "filename = 'phys_bkg_lambda_comparison'\n",
    "\n",
    "hist_params = {\n",
    "    'density': True,\n",
    "    'bins': 85,\n",
    "    'edgecolor': 'black',\n",
    "    'histtype': 'stepfilled',\n",
    "    'range': (1050,1400)\n",
    "}\n",
    "\n",
    "lambda_params = {\n",
    "    'hatch': '--',\n",
    "    'facecolor': 'none',\n",
    "    'label': r'$\\Lambda^0 \\rightarrow p\\pi^-$'\n",
    "}\n",
    "\n",
    "b_params = {\n",
    "    'hatch': '//',\n",
    "    'facecolor': 'none',\n",
    "    'label': r'$K^0_S \\rightarrow \\pi^+\\pi^-$ background'\n",
    "}\n",
    "\n",
    "plt.hist(df_lambdab['DTF_FixJPsi_L_M'], **hist_params, **lambda_params)\n",
    "plt.hist(df_b['DTF_FixJPsi_PIDSubs_KS0_M'], **hist_params, **b_params)\n",
    "\n",
    "plt.legend(frameon=False)\n",
    "plt.ylabel(\"Probability density\")\n",
    "plt.xlabel(\"$m(p\\pi^-)$ [MeV/$c^2$]\")\n",
    "\n",
    "if save_plots:\n",
    "    plt.savefig(plot_directory + filename + '.pdf', bbox_inches='tight')\n",
    "\n",
    "plt.show()"
   ]
  },
  {
   "cell_type": "code",
   "execution_count": 15,
   "id": "3ef9733a",
   "metadata": {},
   "outputs": [
    {
     "data": {
      "image/png": "[encoded data removed]",
      "text/plain": [
       "<Figure size 432x288 with 1 Axes>"
      ]
     },
     "metadata": {
      "needs_background": "light"
     },
     "output_type": "display_data"
    }
   ],
   "source": [
    "filename = 'phys_bkg_ks_comparison'\n",
    "\n",
    "hist_params = {\n",
    "    'density': True,\n",
    "    'bins': 85,\n",
    "    'edgecolor': 'black',\n",
    "    'histtype': 'stepfilled',\n",
    "    'range': (300,1000)\n",
    "}\n",
    "\n",
    "lambda_params = {\n",
    "    'hatch': '--',\n",
    "    'facecolor': 'none',\n",
    "    'label': r'$\\Lambda^0 \\rightarrow p\\pi^-$ with $p \\rightarrow \\pi^+$ hypothesis'\n",
    "}\n",
    "\n",
    "b_params = {\n",
    "    'hatch': '//',\n",
    "    'facecolor': 'none',\n",
    "    'label': r'$K^0_S \\rightarrow \\pi^+\\pi^-$'\n",
    "}\n",
    "\n",
    "plt.hist(df_b['DTF_FixJPsi_KS0_M'], **hist_params, **b_params)\n",
    "plt.hist(df_lambdab['DTF_FixJPsi_PIDSubs_L_M'], **hist_params, **lambda_params)\n",
    "\n",
    "plt.legend(frameon=False)\n",
    "plt.ylabel(\"Probability density\")\n",
    "plt.xlabel(\"$m(\\pi^+\\pi^-)$ [MeV/$c^2$]\")\n",
    "\n",
    "if save_plots:\n",
    "    plt.savefig(plot_directory + filename + '.pdf', bbox_inches='tight')\n",
    "\n",
    "plt.show()"
   ]
  },
  {
   "cell_type": "markdown",
   "id": "55a54458",
   "metadata": {},
   "source": [
    "# Efficiency of veto"
   ]
  },
  {
   "cell_type": "code",
   "execution_count": 16,
   "id": "8cf456c4",
   "metadata": {},
   "outputs": [],
   "source": [
    "b0_pdg_mass = 5279.61\n",
    "tot_evts_lambdab = len(df_lambdab)\n",
    "tot_events_b = len(df_b)"
   ]
  },
  {
   "cell_type": "code",
   "execution_count": 17,
   "id": "733c10d3",
   "metadata": {},
   "outputs": [],
   "source": [
    "current_veto = 70"
   ]
  },
  {
   "cell_type": "code",
   "execution_count": 18,
   "id": "5a679555",
   "metadata": {},
   "outputs": [],
   "source": [
    "def compute_lambdab_efficiency(threhsold):\n",
    "    selection = (\n",
    "        (df_lambdab['DTF_FixJPsiLambda_PIDSubs_status'] != 'Success')\n",
    "        | (np.abs(df_lambdab['DTF_FixJPsiLambda_PIDSubs_Lb_M'] - b0_pdg_mass) > threhsold)\n",
    "    )\n",
    "    ## Selection is what we keep. I know you'll get it wrong eventually.\n",
    "    return sum(selection)/tot_evts_lambdab\n",
    "\n",
    "def compute_b_efficiency(threhsold):\n",
    "    selection = (\n",
    "        (df_b['DTF_FixJPsiKaon_status'] != 'Success')\n",
    "        | (np.abs(df_b['DTF_FixJPsiKaon_B0_M'] - b0_pdg_mass) > threhsold)\n",
    "    )\n",
    "    return sum(selection)/tot_events_b"
   ]
  },
  {
   "cell_type": "code",
   "execution_count": 19,
   "id": "e9d44248",
   "metadata": {},
   "outputs": [],
   "source": [
    "thresholds = np.array([cut for cut in range(0,400,10)])\n",
    "lambdab_sig_eff = np.array([compute_lambdab_efficiency(threshold) for threshold in thresholds])\n",
    "b_sig_eff = np.array([compute_b_efficiency(threshold) for threshold in thresholds])"
   ]
  },
  {
   "cell_type": "code",
   "execution_count": 20,
   "id": "06714c81",
   "metadata": {},
   "outputs": [
    {
     "data": {
      "image/png": "[encoded data removed]",
      "text/plain": [
       "<Figure size 432x288 with 1 Axes>"
      ]
     },
     "metadata": {
      "needs_background": "light"
     },
     "output_type": "display_data"
    }
   ],
   "source": [
    "filename = 'phys_veto_efficiencies'\n",
    "\n",
    "common_params = {\n",
    "    'color': 'black'\n",
    "}\n",
    "\n",
    "lambda_params = {\n",
    "    'linestyle': '-',\n",
    "    'label': r'$\\Lambda_b^0 \\rightarrow J/\\psi~\\Lambda^0$'\n",
    "}\n",
    "\n",
    "b_params = {\n",
    "    'linestyle': '--',\n",
    "    'label': r'$K^0_S \\rightarrow \\pi^+\\pi^-$ background'\n",
    "}\n",
    "\n",
    "axv_params = {\n",
    "    'linestyle': 'dotted',\n",
    "    'label': 'Invariant mass veto'\n",
    "}\n",
    "\n",
    "plt.plot(thresholds, lambdab_sig_eff, **common_params, **lambda_params)\n",
    "plt.plot(thresholds, b_sig_eff, **common_params, **b_params)\n",
    "plt.axvline(current_veto, **common_params, **axv_params)\n",
    "plt.xlabel(\"$| m(J/\\psi) - m_{PDG}(B^0) |$ minimum threshold\")\n",
    "plt.ylabel(\"Efficiency\")\n",
    "plt.legend(frameon=False)\n",
    "plt.grid()\n",
    "\n",
    "if save_plots:\n",
    "    plt.savefig(plot_directory + filename + '.pdf', bbox_inches='tight')\n",
    "\n",
    "plt.show()"
   ]
  },
  {
   "cell_type": "code",
   "execution_count": 21,
   "id": "805c487f",
   "metadata": {},
   "outputs": [
    {
     "name": "stdout",
     "output_type": "stream",
     "text": [
      "0\t1.0\t0.0\n",
      "10\t0.9829681192849493\t0.16111220666535198\n",
      "20\t0.965503748249444\t0.2946164464602643\n",
      "30\t0.948059971991103\t0.40603431275882473\n",
      "40\t0.9295040777658786\t0.4912246105304674\n",
      "50\t0.9112365104209572\t0.5553145336225597\n",
      "60\t0.8931542960705166\t0.6012620784855058\n",
      "70\t0.8742071010791663\t0.6426740287911654\n",
      "80\t0.8553628799736387\t0.6754091895089727\n",
      "90\t0.8361685476563143\t0.700059159929008\n",
      "100\t0.8171183787791416\t0.7258923289292053\n",
      "110\t0.797347392701211\t0.7436403076316309\n",
      "120\t0.7778235439492545\t0.7574442910668507\n",
      "130\t0.7579907735398304\t0.7690790771051075\n",
      "140\t0.7373959963753193\t0.7789390652731216\n",
      "150\t0.7171925199769339\t0.7878130546243345\n",
      "160\t0.6959387099431584\t0.7998422401893117\n",
      "170\t0.6749938215668506\t0.8067442319069217\n",
      "180\t0.6539871488590493\t0.8148294222046933\n",
      "190\t0.6317447895213774\t0.8227174127391047\n",
      "200\t0.6115825026773211\t0.8292250049299941\n",
      "210\t0.5918115165993904\t0.8341549990140011\n",
      "220\t0.5718757723041437\t0.8392821928613685\n",
      "230\t0.5527844138726419\t0.8465785841056991\n",
      "240\t0.5348669577395173\t0.8509169788996254\n",
      "250\t0.5175055605898344\t0.8548609741668309\n",
      "260\t0.5005354642062773\t0.8591993689607572\n",
      "270\t0.4858513880879809\t0.8633405639913232\n",
      "280\t0.4708789850893813\t0.8666929599684481\n",
      "290\t0.45708048438915894\t0.8690593571287715\n",
      "300\t0.44431172254716206\t0.8733977519226976\n",
      "310\t0.4319754510256199\t0.8765529481364622\n",
      "320\t0.42052475492215174\t0.8793137448235062\n",
      "330\t0.4093417909218222\t0.882666140800631\n",
      "340\t0.3979322843726831\t0.8864129363044764\n",
      "350\t0.38817035999670485\t0.8870045355945573\n",
      "360\t0.3792734162616361\t0.8897653322816013\n",
      "370\t0.37031468819507374\t0.891737329915204\n",
      "380\t0.36180904522613067\t0.8927233287320055\n",
      "390\t0.3537152978004778\t0.8941037270755275\n"
     ]
    }
   ],
   "source": [
    "for t, s, b in zip(thresholds, lambdab_sig_eff, b_sig_eff):\n",
    "    print(f'{t}\\t{s}\\t{1-b}')"
   ]
  },
  {
   "cell_type": "code",
   "execution_count": 22,
   "id": "f1e57019",
   "metadata": {},
   "outputs": [],
   "source": [
    "def compute_signal_significance(threshold):\n",
    "    s = compute_lambdab_efficiency(threshold)\n",
    "    b = compute_b_efficiency(threshold)\n",
    "    \n",
    "    return s/np.sqrt(s+b)\n",
    "\n",
    "def compute_signal_purity(threshold):\n",
    "    s = compute_lambdab_efficiency(threshold)\n",
    "    b = compute_b_efficiency(threshold)\n",
    "    \n",
    "    return s/(s+b)"
   ]
  },
  {
   "cell_type": "code",
   "execution_count": 23,
   "id": "34d8581b",
   "metadata": {},
   "outputs": [],
   "source": [
    "sig_significances = np.array([compute_signal_significance(threshold) for threshold in thresholds])\n",
    "sig_purities = np.array([compute_signal_purity(threshold) for threshold in thresholds])"
   ]
  },
  {
   "cell_type": "code",
   "execution_count": 24,
   "id": "a0b2fbb9",
   "metadata": {},
   "outputs": [
    {
     "data": {
      "image/png": "[encoded data removed]",
      "text/plain": [
       "<Figure size 432x288 with 1 Axes>"
      ]
     },
     "metadata": {
      "needs_background": "light"
     },
     "output_type": "display_data"
    }
   ],
   "source": [
    "filename = 'phys_veto_significances'\n",
    "\n",
    "plt.plot(thresholds, sig_significances, color='black')\n",
    "plt.axvline(current_veto, **common_params, **axv_params)\n",
    "\n",
    "plt.xlabel(\"$| m(J/\\psi) - m_{PDG}(B^0) |$ minimum threshold\")\n",
    "plt.ylabel(\"Signal significance\")\n",
    "plt.grid()\n",
    "plt.legend(frameon=False)\n",
    "if save_plots:\n",
    "    plt.savefig(plot_directory + filename + '.pdf', bbox_inches='tight')\n",
    "plt.show()"
   ]
  },
  {
   "cell_type": "code",
   "execution_count": 25,
   "id": "eb963c01",
   "metadata": {},
   "outputs": [
    {
     "data": {
      "image/png": "[encoded data removed]",
      "text/plain": [
       "<Figure size 432x288 with 1 Axes>"
      ]
     },
     "metadata": {
      "needs_background": "light"
     },
     "output_type": "display_data"
    }
   ],
   "source": [
    "filename = 'phys_veto_purities'\n",
    "\n",
    "plt.plot(thresholds, sig_purities, color='black')\n",
    "plt.axvline(current_veto, **common_params, **axv_params)\n",
    "plt.xlabel(\"$| m(J/\\psi) - m_{PDG}(B^0) |$ minimum threshold\")\n",
    "plt.ylabel(\"Signal purity\")\n",
    "plt.grid()\n",
    "plt.legend(frameon=False)\n",
    "if save_plots:\n",
    "    plt.savefig(plot_directory + filename + '.pdf', bbox_inches='tight')\n",
    "plt.show()"
   ]
  },
  {
   "cell_type": "code",
   "execution_count": 26,
   "id": "1b2cb37c",
   "metadata": {},
   "outputs": [],
   "source": [
    "bins_mass_Lb = np.linspace(5000, 6200, 31)\n",
    "bin_mass_Lb_pairs = [(lower, upper) for lower, upper in zip(bins_mass_Lb[:-1], bins_mass_Lb[1:])]\n",
    "bin_mass_Lb_midpoints = (bins_mass_Lb[1:] + bins_mass_Lb[:-1])/2"
   ]
  },
  {
   "cell_type": "code",
   "execution_count": 27,
   "id": "787c460e",
   "metadata": {},
   "outputs": [],
   "source": [
    "def compute_lambdab_efficiency_in_bin(threshold, lower_limit, upper_limit):\n",
    "    ## Selection is what we keep. I know you'll get it wrong eventually.\n",
    "    veto_selection = (\n",
    "        (df_lambdab['DTF_FixJPsiLambda_PIDSubs_status'] != 'Success')\n",
    "        | (np.abs(df_lambdab['DTF_FixJPsiLambda_PIDSubs_Lb_M'] - b0_pdg_mass) > threshold)\n",
    "    )\n",
    "    bin_selection = (\n",
    "        (df_lambdab['DTF_FixJPsiLambda_Lb_M'] > lower_limit)\n",
    "        & (df_lambdab['DTF_FixJPsiLambda_Lb_M'] < upper_limit)\n",
    "    )\n",
    "    \n",
    "    return sum(veto_selection & bin_selection)/sum(bin_selection)   "
   ]
  },
  {
   "cell_type": "code",
   "execution_count": 28,
   "id": "73e44765",
   "metadata": {},
   "outputs": [],
   "source": [
    "lambdab_eff_per_bin = np.array([compute_lambdab_efficiency_in_bin(70, *pair) for pair in bin_mass_Lb_pairs])"
   ]
  },
  {
   "cell_type": "code",
   "execution_count": 29,
   "id": "6653ab6f",
   "metadata": {},
   "outputs": [
    {
     "data": {
      "image/png": "[encoded data removed]",
      "text/plain": [
       "<Figure size 432x288 with 1 Axes>"
      ]
     },
     "metadata": {
      "needs_background": "light"
     },
     "output_type": "display_data"
    }
   ],
   "source": [
    "filename = 'phys_veto_sig_efficiencies_per_bin'\n",
    "\n",
    "plt.plot(bin_mass_Lb_midpoints, lambdab_eff_per_bin, color='black')\n",
    "plt.xlabel(\"$m(J/\\psi~\\Lambda^0)$ [MeV/$c^2$]\")\n",
    "plt.ylabel(\"$\\Lambda_b^0$ signal efficiency\")\n",
    "plt.grid()\n",
    "\n",
    "if save_plots:\n",
    "    plt.savefig(plot_directory + filename + '.pdf', bbox_inches='tight')\n",
    "\n",
    "plt.show()"
   ]
  },
  {
   "cell_type": "code",
   "execution_count": 42,
   "id": "d3828a4e",
   "metadata": {},
   "outputs": [
    {
     "data": {
      "image/png": "[encoded data removed]",
      "text/plain": [
       "<Figure size 432x288 with 1 Axes>"
      ]
     },
     "metadata": {
      "needs_background": "light"
     },
     "output_type": "display_data"
    }
   ],
   "source": [
    "filename = 'phys_bkg_b0_comparison'\n",
    "\n",
    "hist_params = {\n",
    "    'density': True,\n",
    "    'bins': 85,\n",
    "    'histtype': 'stepfilled',\n",
    "    'range': (5000,6200),\n",
    "}\n",
    "\n",
    "lambda_params = {\n",
    "     'edgecolor': 'tab:blue',\n",
    "    'color': mcolors.to_rgba('tab:blue', alpha=0.2),\n",
    "    'label': r'$\\Lambda_b^0 \\rightarrow J/\\psi~\\Lambda^0$ with $p \\rightarrow \\pi^+$ hypothesis'\n",
    "}\n",
    "\n",
    "b_params = {\n",
    "    'edgecolor': 'tab:orange',\n",
    "    'color': mcolors.to_rgba('tab:orange', alpha=0.2),\n",
    "    'label': r'$B^0 \\rightarrow J/\\psi~K^0_S$'\n",
    "}\n",
    "\n",
    "plt.hist(df_b['DTF_FixJPsiKaon_B0_M'], **hist_params, **b_params)\n",
    "plt.hist(df_lambdab['DTF_FixJPsiLambda_PIDSubs_Lb_M'], **hist_params, **lambda_params)\n",
    "\n",
    "plt.axvline(b0_pdg_mass - current_veto, linestyle='dotted', color='black')\n",
    "plt.axvline(b0_pdg_mass + current_veto, linestyle='dotted', color='black', label='Invariant mass veto')\n",
    "\n",
    "plt.legend(frameon=False, loc='upper right')\n",
    "plt.ylabel(\"Probability density\")\n",
    "plt.xlabel(\"$m(J/\\psi~K^0_S)$ [MeV/$c^2$]\")\n",
    "\n",
    "if save_plots:\n",
    "    plt.savefig(plot_directory + filename + '_with_threshold.pdf', bbox_inches='tight')\n",
    "    plt.savefig(plot_directory + filename + '_with_threshold.png', bbox_inches='tight', dpi=150)\n",
    "\n",
    "plt.show()"
   ]
  },
  {
   "cell_type": "code",
   "execution_count": null,
   "id": "99cf71ab",
   "metadata": {},
   "outputs": [],
   "source": []
  }
 ],
 "metadata": {
  "kernelspec": {
   "display_name": "Python 3",
   "language": "python",
   "name": "python3"
  },
  "language_info": {
   "codemirror_mode": {
    "name": "ipython",
    "version": 3
   },
   "file_extension": ".py",
   "mimetype": "text/x-python",
   "name": "python",
   "nbconvert_exporter": "python",
   "pygments_lexer": "ipython3",
   "version": "3.6.8"
  }
 },
 "nbformat": 4,
 "nbformat_minor": 5
}
